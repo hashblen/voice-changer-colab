{
  "nbformat": 4,
  "nbformat_minor": 0,
  "metadata": {
    "colab": {
      "private_outputs": true,
      "provenance": [],
      "gpuType": "T4"
    },
    "kernelspec": {
      "name": "python3",
      "display_name": "Python 3"
    },
    "language_info": {
      "name": "python"
    },
    "accelerator": "GPU"
  },
  "cells": [
    {
      "cell_type": "markdown",
      "source": [
        "Optional: Check if Colab is running on GPU mode"
      ],
      "metadata": {
        "id": "LxmjMRyN-opy"
      }
    },
    {
      "cell_type": "code",
      "source": [
        "!nvidia-smi"
      ],
      "metadata": {
        "id": "DqfTcs410gjf"
      },
      "execution_count": null,
      "outputs": []
    },
    {
      "cell_type": "markdown",
      "source": [
        "Launch ngrok.\n",
        "\n",
        "You need to have an account on https://dashboard.ngrok.com and you need to paste the token in the following at `NGROK_AUTH_TOKEN`. This will provide you the url you will have to put in **CHROME (DOES NOT WORK IN OTHER BROWSERS)** or with `voice-changer-native-client.exe --url https://the-url-that-you-got.ngrok-free.app`\n"
      ],
      "metadata": {
        "id": "wyn3EwD9-xxR"
      }
    },
    {
      "cell_type": "code",
      "source": [
        "!pip install pyngrok\n",
        "from pyngrok import ngrok\n",
        "\n",
        "# Terminate ngrok port\n",
        "ngrok.kill()\n",
        "\n",
        "# Set authentication (optional)\n",
        "# Get your authentication token via https://dashboard.ngrok.com/auth\n",
        "NGROK_AUTH_TOKEN = \"TOKEN098090709ehDe_DOIJDOI\"\n",
        "ngrok.set_auth_token(NGROK_AUTH_TOKEN)\n",
        "\n",
        "# Open an HTTPs tunnel on port 18888 for https://localhost:18888\n",
        "public_url = ngrok.connect(\"https://localhost:18888\", \"http\", bind_tls=True, host_header=\"rewrite\")\n",
        "print(\"MLflow Tracking UI:\", public_url)"
      ],
      "metadata": {
        "id": "s97oUaEEdwWS"
      },
      "execution_count": null,
      "outputs": []
    },
    {
      "cell_type": "markdown",
      "source": [
        "Launch the voice-changer. After loading, don't forget not to use the url given below but the one given above."
      ],
      "metadata": {
        "id": "0JwbG0u3_iHA"
      }
    },
    {
      "cell_type": "code",
      "source": [
        "!git clone https://github.com/w-okada/voice-changer\n",
        "%cd /content/voice-changer/server\n",
        "!pip install -r requirements.txt\n",
        "!sudo apt-get install libportaudio2 libasound-dev\n",
        "!python3 MMVCServerSIO.py -p 18888 --https true \\\n",
        " --content_vec_500 pretrain/checkpoint_best_legacy_500.pt  \\\n",
        " --hubert_base pretrain/hubert_base.pt \\\n",
        " --hubert_soft pretrain/hubert/hubert-soft-0d54a1f4.pt \\\n",
        " --nsf_hifigan pretrain/nsf_hifigan/model \\\n",
        " --hubert_base_jp pretrain/rinna_hubert_base_jp.pt \\\n",
        " --model_dir model_dir"
      ],
      "metadata": {
        "id": "V-w9FVBBgRDi"
      },
      "execution_count": null,
      "outputs": []
    },
    {
      "cell_type": "markdown",
      "source": [
        "----------------------\n",
        "\n",
        "\n",
        "Colab made by hashblen https://github.com/hashblen/voice-changer-colab\n",
        "Voice changer by w-okada https://github.com/w-okada/voice-changer"
      ],
      "metadata": {
        "id": "ovifyweYAkgf"
      }
    }
  ]
}
